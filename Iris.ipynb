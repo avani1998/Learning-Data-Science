{
 "cells": [
  {
   "cell_type": "code",
   "execution_count": 1,
   "metadata": {},
   "outputs": [],
   "source": [
    "import pandas as pd\n",
    "import numpy as np\n",
    "import seaborn as sns\n",
    "import matplotlib.pyplot as ply"
   ]
  },
  {
   "cell_type": "code",
   "execution_count": 2,
   "metadata": {},
   "outputs": [],
   "source": [
    "df=pd.read_csv(\"iris.csv\")"
   ]
  },
  {
   "cell_type": "code",
   "execution_count": 3,
   "metadata": {},
   "outputs": [
    {
     "data": {
      "text/html": [
       "<div>\n",
       "<style scoped>\n",
       "    .dataframe tbody tr th:only-of-type {\n",
       "        vertical-align: middle;\n",
       "    }\n",
       "\n",
       "    .dataframe tbody tr th {\n",
       "        vertical-align: top;\n",
       "    }\n",
       "\n",
       "    .dataframe thead th {\n",
       "        text-align: right;\n",
       "    }\n",
       "</style>\n",
       "<table border=\"1\" class=\"dataframe\">\n",
       "  <thead>\n",
       "    <tr style=\"text-align: right;\">\n",
       "      <th></th>\n",
       "      <th>Sepal_Length</th>\n",
       "      <th>Sepal_Width</th>\n",
       "      <th>Petal_Length</th>\n",
       "      <th>Petal_Width</th>\n",
       "      <th>Class</th>\n",
       "    </tr>\n",
       "  </thead>\n",
       "  <tbody>\n",
       "    <tr>\n",
       "      <th>0</th>\n",
       "      <td>5.1</td>\n",
       "      <td>3.5</td>\n",
       "      <td>1.4</td>\n",
       "      <td>0.2</td>\n",
       "      <td>Iris-setosa</td>\n",
       "    </tr>\n",
       "    <tr>\n",
       "      <th>1</th>\n",
       "      <td>4.9</td>\n",
       "      <td>3.0</td>\n",
       "      <td>1.4</td>\n",
       "      <td>0.2</td>\n",
       "      <td>Iris-setosa</td>\n",
       "    </tr>\n",
       "    <tr>\n",
       "      <th>2</th>\n",
       "      <td>4.7</td>\n",
       "      <td>3.2</td>\n",
       "      <td>1.3</td>\n",
       "      <td>0.2</td>\n",
       "      <td>Iris-setosa</td>\n",
       "    </tr>\n",
       "    <tr>\n",
       "      <th>3</th>\n",
       "      <td>4.6</td>\n",
       "      <td>3.1</td>\n",
       "      <td>1.5</td>\n",
       "      <td>0.2</td>\n",
       "      <td>Iris-setosa</td>\n",
       "    </tr>\n",
       "    <tr>\n",
       "      <th>4</th>\n",
       "      <td>5.0</td>\n",
       "      <td>3.6</td>\n",
       "      <td>1.4</td>\n",
       "      <td>0.2</td>\n",
       "      <td>Iris-setosa</td>\n",
       "    </tr>\n",
       "  </tbody>\n",
       "</table>\n",
       "</div>"
      ],
      "text/plain": [
       "   Sepal_Length   Sepal_Width   Petal_Length   Petal_Width        Class\n",
       "0           5.1           3.5            1.4           0.2  Iris-setosa\n",
       "1           4.9           3.0            1.4           0.2  Iris-setosa\n",
       "2           4.7           3.2            1.3           0.2  Iris-setosa\n",
       "3           4.6           3.1            1.5           0.2  Iris-setosa\n",
       "4           5.0           3.6            1.4           0.2  Iris-setosa"
      ]
     },
     "execution_count": 3,
     "metadata": {},
     "output_type": "execute_result"
    }
   ],
   "source": [
    "df.head()"
   ]
  },
  {
   "cell_type": "code",
   "execution_count": 5,
   "metadata": {},
   "outputs": [
    {
     "data": {
      "text/html": [
       "<div>\n",
       "<style scoped>\n",
       "    .dataframe tbody tr th:only-of-type {\n",
       "        vertical-align: middle;\n",
       "    }\n",
       "\n",
       "    .dataframe tbody tr th {\n",
       "        vertical-align: top;\n",
       "    }\n",
       "\n",
       "    .dataframe thead th {\n",
       "        text-align: right;\n",
       "    }\n",
       "</style>\n",
       "<table border=\"1\" class=\"dataframe\">\n",
       "  <thead>\n",
       "    <tr style=\"text-align: right;\">\n",
       "      <th></th>\n",
       "      <th>Sepal_Length</th>\n",
       "      <th>Sepal_Width</th>\n",
       "      <th>Petal_Length</th>\n",
       "      <th>Petal_Width</th>\n",
       "    </tr>\n",
       "  </thead>\n",
       "  <tbody>\n",
       "    <tr>\n",
       "      <th>count</th>\n",
       "      <td>150.000000</td>\n",
       "      <td>150.000000</td>\n",
       "      <td>150.000000</td>\n",
       "      <td>150.000000</td>\n",
       "    </tr>\n",
       "    <tr>\n",
       "      <th>mean</th>\n",
       "      <td>5.843333</td>\n",
       "      <td>3.054000</td>\n",
       "      <td>3.758667</td>\n",
       "      <td>1.198667</td>\n",
       "    </tr>\n",
       "    <tr>\n",
       "      <th>std</th>\n",
       "      <td>0.828066</td>\n",
       "      <td>0.433594</td>\n",
       "      <td>1.764420</td>\n",
       "      <td>0.763161</td>\n",
       "    </tr>\n",
       "    <tr>\n",
       "      <th>min</th>\n",
       "      <td>4.300000</td>\n",
       "      <td>2.000000</td>\n",
       "      <td>1.000000</td>\n",
       "      <td>0.100000</td>\n",
       "    </tr>\n",
       "    <tr>\n",
       "      <th>25%</th>\n",
       "      <td>5.100000</td>\n",
       "      <td>2.800000</td>\n",
       "      <td>1.600000</td>\n",
       "      <td>0.300000</td>\n",
       "    </tr>\n",
       "    <tr>\n",
       "      <th>50%</th>\n",
       "      <td>5.800000</td>\n",
       "      <td>3.000000</td>\n",
       "      <td>4.350000</td>\n",
       "      <td>1.300000</td>\n",
       "    </tr>\n",
       "    <tr>\n",
       "      <th>75%</th>\n",
       "      <td>6.400000</td>\n",
       "      <td>3.300000</td>\n",
       "      <td>5.100000</td>\n",
       "      <td>1.800000</td>\n",
       "    </tr>\n",
       "    <tr>\n",
       "      <th>max</th>\n",
       "      <td>7.900000</td>\n",
       "      <td>4.400000</td>\n",
       "      <td>6.900000</td>\n",
       "      <td>2.500000</td>\n",
       "    </tr>\n",
       "  </tbody>\n",
       "</table>\n",
       "</div>"
      ],
      "text/plain": [
       "       Sepal_Length   Sepal_Width   Petal_Length   Petal_Width\n",
       "count    150.000000    150.000000     150.000000    150.000000\n",
       "mean       5.843333      3.054000       3.758667      1.198667\n",
       "std        0.828066      0.433594       1.764420      0.763161\n",
       "min        4.300000      2.000000       1.000000      0.100000\n",
       "25%        5.100000      2.800000       1.600000      0.300000\n",
       "50%        5.800000      3.000000       4.350000      1.300000\n",
       "75%        6.400000      3.300000       5.100000      1.800000\n",
       "max        7.900000      4.400000       6.900000      2.500000"
      ]
     },
     "execution_count": 5,
     "metadata": {},
     "output_type": "execute_result"
    }
   ],
   "source": [
    "df.describe()"
   ]
  },
  {
   "cell_type": "code",
   "execution_count": 6,
   "metadata": {
    "scrolled": false
   },
   "outputs": [
    {
     "name": "stdout",
     "output_type": "stream",
     "text": [
      "     Sepal_Length   Sepal_Width   Petal_Length   Petal_Width           Class\n",
      "0             5.1           3.5            1.4           0.2     Iris-setosa\n",
      "1             4.9           3.0            1.4           0.2     Iris-setosa\n",
      "2             4.7           3.2            1.3           0.2     Iris-setosa\n",
      "3             4.6           3.1            1.5           0.2     Iris-setosa\n",
      "4             5.0           3.6            1.4           0.2     Iris-setosa\n",
      "5             5.4           3.9            1.7           0.4     Iris-setosa\n",
      "6             4.6           3.4            1.4           0.3     Iris-setosa\n",
      "7             5.0           3.4            1.5           0.2     Iris-setosa\n",
      "8             4.4           2.9            1.4           0.2     Iris-setosa\n",
      "9             4.9           3.1            1.5           0.1     Iris-setosa\n",
      "10            5.4           3.7            1.5           0.2     Iris-setosa\n",
      "11            4.8           3.4            1.6           0.2     Iris-setosa\n",
      "12            4.8           3.0            1.4           0.1     Iris-setosa\n",
      "13            4.3           3.0            1.1           0.1     Iris-setosa\n",
      "14            5.8           4.0            1.2           0.2     Iris-setosa\n",
      "15            5.7           4.4            1.5           0.4     Iris-setosa\n",
      "16            5.4           3.9            1.3           0.4     Iris-setosa\n",
      "17            5.1           3.5            1.4           0.3     Iris-setosa\n",
      "18            5.7           3.8            1.7           0.3     Iris-setosa\n",
      "19            5.1           3.8            1.5           0.3     Iris-setosa\n",
      "20            5.4           3.4            1.7           0.2     Iris-setosa\n",
      "21            5.1           3.7            1.5           0.4     Iris-setosa\n",
      "22            4.6           3.6            1.0           0.2     Iris-setosa\n",
      "23            5.1           3.3            1.7           0.5     Iris-setosa\n",
      "24            4.8           3.4            1.9           0.2     Iris-setosa\n",
      "25            5.0           3.0            1.6           0.2     Iris-setosa\n",
      "26            5.0           3.4            1.6           0.4     Iris-setosa\n",
      "27            5.2           3.5            1.5           0.2     Iris-setosa\n",
      "28            5.2           3.4            1.4           0.2     Iris-setosa\n",
      "29            4.7           3.2            1.6           0.2     Iris-setosa\n",
      "..            ...           ...            ...           ...             ...\n",
      "120           6.9           3.2            5.7           2.3  Iris-virginica\n",
      "121           5.6           2.8            4.9           2.0  Iris-virginica\n",
      "122           7.7           2.8            6.7           2.0  Iris-virginica\n",
      "123           6.3           2.7            4.9           1.8  Iris-virginica\n",
      "124           6.7           3.3            5.7           2.1  Iris-virginica\n",
      "125           7.2           3.2            6.0           1.8  Iris-virginica\n",
      "126           6.2           2.8            4.8           1.8  Iris-virginica\n",
      "127           6.1           3.0            4.9           1.8  Iris-virginica\n",
      "128           6.4           2.8            5.6           2.1  Iris-virginica\n",
      "129           7.2           3.0            5.8           1.6  Iris-virginica\n",
      "130           7.4           2.8            6.1           1.9  Iris-virginica\n",
      "131           7.9           3.8            6.4           2.0  Iris-virginica\n",
      "132           6.4           2.8            5.6           2.2  Iris-virginica\n",
      "133           6.3           2.8            5.1           1.5  Iris-virginica\n",
      "134           6.1           2.6            5.6           1.4  Iris-virginica\n",
      "135           7.7           3.0            6.1           2.3  Iris-virginica\n",
      "136           6.3           3.4            5.6           2.4  Iris-virginica\n",
      "137           6.4           3.1            5.5           1.8  Iris-virginica\n",
      "138           6.0           3.0            4.8           1.8  Iris-virginica\n",
      "139           6.9           3.1            5.4           2.1  Iris-virginica\n",
      "140           6.7           3.1            5.6           2.4  Iris-virginica\n",
      "141           6.9           3.1            5.1           2.3  Iris-virginica\n",
      "142           5.8           2.7            5.1           1.9  Iris-virginica\n",
      "143           6.8           3.2            5.9           2.3  Iris-virginica\n",
      "144           6.7           3.3            5.7           2.5  Iris-virginica\n",
      "145           6.7           3.0            5.2           2.3  Iris-virginica\n",
      "146           6.3           2.5            5.0           1.9  Iris-virginica\n",
      "147           6.5           3.0            5.2           2.0  Iris-virginica\n",
      "148           6.2           3.4            5.4           2.3  Iris-virginica\n",
      "149           5.9           3.0            5.1           1.8  Iris-virginica\n",
      "\n",
      "[150 rows x 5 columns]\n"
     ]
    }
   ],
   "source": [
    "print(df)"
   ]
  },
  {
   "cell_type": "code",
   "execution_count": 8,
   "metadata": {},
   "outputs": [
    {
     "data": {
      "text/html": [
       "<div>\n",
       "<style scoped>\n",
       "    .dataframe tbody tr th:only-of-type {\n",
       "        vertical-align: middle;\n",
       "    }\n",
       "\n",
       "    .dataframe tbody tr th {\n",
       "        vertical-align: top;\n",
       "    }\n",
       "\n",
       "    .dataframe thead th {\n",
       "        text-align: right;\n",
       "    }\n",
       "</style>\n",
       "<table border=\"1\" class=\"dataframe\">\n",
       "  <thead>\n",
       "    <tr style=\"text-align: right;\">\n",
       "      <th></th>\n",
       "      <th>Class</th>\n",
       "      <th>Petal_Width</th>\n",
       "    </tr>\n",
       "  </thead>\n",
       "  <tbody>\n",
       "    <tr>\n",
       "      <th>0</th>\n",
       "      <td>Iris-setosa</td>\n",
       "      <td>0.244</td>\n",
       "    </tr>\n",
       "    <tr>\n",
       "      <th>1</th>\n",
       "      <td>Iris-versicolor</td>\n",
       "      <td>1.326</td>\n",
       "    </tr>\n",
       "    <tr>\n",
       "      <th>2</th>\n",
       "      <td>Iris-virginica</td>\n",
       "      <td>2.026</td>\n",
       "    </tr>\n",
       "  </tbody>\n",
       "</table>\n",
       "</div>"
      ],
      "text/plain": [
       "             Class   Petal_Width\n",
       "0      Iris-setosa         0.244\n",
       "1  Iris-versicolor         1.326\n",
       "2   Iris-virginica         2.026"
      ]
     },
     "execution_count": 8,
     "metadata": {},
     "output_type": "execute_result"
    }
   ],
   "source": [
    "n=df[['Class',' Petal_Width']]\n",
    "n.groupby(['Class'],as_index=False).mean()"
   ]
  },
  {
   "cell_type": "code",
   "execution_count": 17,
   "metadata": {},
   "outputs": [
    {
     "data": {
      "image/png": "[encoded data removed]",
      "text/plain": [
       "<Figure size 432x288 with 1 Axes>"
      ]
     },
     "metadata": {
      "needs_background": "light"
     },
     "output_type": "display_data"
    }
   ],
   "source": [
    "interval=(0,2,3,5)\n",
    "categories=['0 to 2','2 to 3','3 to 5']\n",
    "df['sw']=pd.cut(df[' Sepal_Width'],interval,labels=categories)\n",
    "ax=sns.countplot(x='sw',hue='Class',palette='Set1',data=df)\n",
    "ax.set(title=\"Sepal Width Vs Class\",xlabel='Sepal Width',ylabel=\"Count\")\n",
    "ply.show()"
   ]
  },
  {
   "cell_type": "code",
   "execution_count": 9,
   "metadata": {},
   "outputs": [
    {
     "data": {
      "image/png": "[encoded data removed]",
      "text/plain": [
       "<Figure size 432x288 with 1 Axes>"
      ]
     },
     "metadata": {
      "needs_background": "light"
     },
     "output_type": "display_data"
    }
   ],
   "source": [
    "ax=sns.countplot(x=' Sepal_Width',hue='Class',palette='Set1',data=df)"
   ]
  },
  {
   "cell_type": "code",
   "execution_count": 12,
   "metadata": {},
   "outputs": [
    {
     "data": {
      "image/png": "[encoded data removed]",
      "text/plain": [
       "<Figure size 432x288 with 1 Axes>"
      ]
     },
     "metadata": {
      "needs_background": "light"
     },
     "output_type": "display_data"
    }
   ],
   "source": [
    "ax=sns.countplot(data=df[df['Class']==\"Iris-setosa\"],x=' Sepal_Width',palette='Set1')\n",
    "ax.set(title='Sepal Width Vs Count',xlabel='Iris-Sentosa',ylabel='Count')\n",
    "ply.show()"
   ]
  },
  {
   "cell_type": "code",
   "execution_count": null,
   "metadata": {},
   "outputs": [],
   "source": []
  }
 ],
 "metadata": {
  "kernelspec": {
   "display_name": "Python 3",
   "language": "python",
   "name": "python3"
  },
  "language_info": {
   "codemirror_mode": {
    "name": "ipython",
    "version": 3
   },
   "file_extension": ".py",
   "mimetype": "text/x-python",
   "name": "python",
   "nbconvert_exporter": "python",
   "pygments_lexer": "ipython3",
   "version": "3.7.3"
  }
 },
 "nbformat": 4,
 "nbformat_minor": 2
}
